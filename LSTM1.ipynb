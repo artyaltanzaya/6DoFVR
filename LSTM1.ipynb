{
 "cells": [
  {
   "cell_type": "code",
   "execution_count": 1,
   "metadata": {},
   "outputs": [],
   "source": [
    "\n",
    "import numpy as np\n",
    "from torch.utils.data import Dataset, DataLoader\n",
    "import torch\n",
    "from torch import nn\n",
    "from torch.nn import functional as F\n",
    "from torch.optim.lr_scheduler import _LRScheduler\n",
    "from tqdm import tqdm\n",
    "import pandas as pd\n",
    "import os"
   ]
  },
  {
   "cell_type": "code",
   "execution_count": 2,
   "metadata": {},
   "outputs": [],
   "source": [
    "data = pd.read_csv('./dataset/org/H1_nav.csv')"
   ]
  },
  {
   "cell_type": "code",
   "execution_count": 3,
   "metadata": {},
   "outputs": [],
   "source": [
    "ignore_columns = ['Participant', 'Dataset']\n",
    "features = [col for col in data.columns if col not in ignore_columns]"
   ]
  },
  {
   "cell_type": "code",
   "execution_count": 4,
   "metadata": {},
   "outputs": [
    {
     "data": {
      "text/html": [
       "<div>\n",
       "<style scoped>\n",
       "    .dataframe tbody tr th:only-of-type {\n",
       "        vertical-align: middle;\n",
       "    }\n",
       "\n",
       "    .dataframe tbody tr th {\n",
       "        vertical-align: top;\n",
       "    }\n",
       "\n",
       "    .dataframe thead th {\n",
       "        text-align: right;\n",
       "    }\n",
       "</style>\n",
       "<table border=\"1\" class=\"dataframe\">\n",
       "  <thead>\n",
       "    <tr style=\"text-align: right;\">\n",
       "      <th></th>\n",
       "      <th>FrameNumber</th>\n",
       "      <th>x</th>\n",
       "      <th>y</th>\n",
       "      <th>z</th>\n",
       "      <th>HMDRX</th>\n",
       "      <th>HMDRY</th>\n",
       "      <th>HMDRZ</th>\n",
       "      <th>Participant</th>\n",
       "      <th>Dataset</th>\n",
       "      <th>ViewFrame</th>\n",
       "    </tr>\n",
       "  </thead>\n",
       "  <tbody>\n",
       "    <tr>\n",
       "      <th>0</th>\n",
       "      <td>1</td>\n",
       "      <td>0.0500</td>\n",
       "      <td>1.7868</td>\n",
       "      <td>-1.0947</td>\n",
       "      <td>6.9163</td>\n",
       "      <td>350.8206</td>\n",
       "      <td>359.9912</td>\n",
       "      <td>P01_V1</td>\n",
       "      <td>H1</td>\n",
       "      <td>1</td>\n",
       "    </tr>\n",
       "    <tr>\n",
       "      <th>1</th>\n",
       "      <td>2</td>\n",
       "      <td>0.0498</td>\n",
       "      <td>1.7871</td>\n",
       "      <td>-1.0951</td>\n",
       "      <td>6.9116</td>\n",
       "      <td>351.1272</td>\n",
       "      <td>0.0094</td>\n",
       "      <td>P01_V1</td>\n",
       "      <td>H1</td>\n",
       "      <td>2</td>\n",
       "    </tr>\n",
       "    <tr>\n",
       "      <th>2</th>\n",
       "      <td>3</td>\n",
       "      <td>0.0498</td>\n",
       "      <td>1.7872</td>\n",
       "      <td>-1.0955</td>\n",
       "      <td>6.8915</td>\n",
       "      <td>351.3081</td>\n",
       "      <td>0.0221</td>\n",
       "      <td>P01_V1</td>\n",
       "      <td>H1</td>\n",
       "      <td>3</td>\n",
       "    </tr>\n",
       "    <tr>\n",
       "      <th>3</th>\n",
       "      <td>4</td>\n",
       "      <td>0.0498</td>\n",
       "      <td>1.7870</td>\n",
       "      <td>-1.0961</td>\n",
       "      <td>6.9375</td>\n",
       "      <td>351.5385</td>\n",
       "      <td>359.9731</td>\n",
       "      <td>P01_V1</td>\n",
       "      <td>H1</td>\n",
       "      <td>4</td>\n",
       "    </tr>\n",
       "    <tr>\n",
       "      <th>4</th>\n",
       "      <td>5</td>\n",
       "      <td>0.0497</td>\n",
       "      <td>1.7865</td>\n",
       "      <td>-1.0969</td>\n",
       "      <td>7.1456</td>\n",
       "      <td>351.7421</td>\n",
       "      <td>359.8803</td>\n",
       "      <td>P01_V1</td>\n",
       "      <td>H1</td>\n",
       "      <td>5</td>\n",
       "    </tr>\n",
       "  </tbody>\n",
       "</table>\n",
       "</div>"
      ],
      "text/plain": [
       "   FrameNumber       x       y       z   HMDRX     HMDRY     HMDRZ  \\\n",
       "0            1  0.0500  1.7868 -1.0947  6.9163  350.8206  359.9912   \n",
       "1            2  0.0498  1.7871 -1.0951  6.9116  351.1272    0.0094   \n",
       "2            3  0.0498  1.7872 -1.0955  6.8915  351.3081    0.0221   \n",
       "3            4  0.0498  1.7870 -1.0961  6.9375  351.5385  359.9731   \n",
       "4            5  0.0497  1.7865 -1.0969  7.1456  351.7421  359.8803   \n",
       "\n",
       "  Participant Dataset  ViewFrame  \n",
       "0      P01_V1      H1          1  \n",
       "1      P01_V1      H1          2  \n",
       "2      P01_V1      H1          3  \n",
       "3      P01_V1      H1          4  \n",
       "4      P01_V1      H1          5  "
      ]
     },
     "execution_count": 4,
     "metadata": {},
     "output_type": "execute_result"
    }
   ],
   "source": [
    "device = torch.device('cuda')\n",
    "device\n",
    "data.head()"
   ]
  },
  {
   "cell_type": "code",
   "execution_count": 5,
   "metadata": {},
   "outputs": [],
   "source": [
    "data = data.fillna(method='ffill').fillna(method='bfill')\n",
    "data = data.drop(columns=ignore_columns)"
   ]
  },
  {
   "cell_type": "code",
   "execution_count": 6,
   "metadata": {},
   "outputs": [],
   "source": [
    "class Timeseries_Dataset(Dataset):\n",
    "    def __init__(self, X: np.ndarray, y: np.ndarray, seq_len: int = 32):\n",
    "        self.X = torch.tensor(X).float()\n",
    "        self.y = torch.tensor(y).float()\n",
    "        self.seq_len = seq_len\n",
    "\n",
    "    def __len__(self):\n",
    "        return self.X.__len__() - (self.seq_len - 1)\n",
    "\n",
    "    def __getitem__(self, index):\n",
    "        return {'x': torch.tensor(self.X[index:index + self.seq_len], dtype=torch.float),\n",
    "                'y': torch.tensor(self.y[index + self.seq_len - 1], dtype=torch.long)}\n"
   ]
  },
  {
   "cell_type": "code",
   "execution_count": 9,
   "metadata": {},
   "outputs": [],
   "source": [
    "class LSTMClassifier(nn.Module):\n",
    "\n",
    "    def __init__(self, input_dim, hidden_dim, layer_dim, output_dim):\n",
    "        super().__init__()\n",
    "        self.hidden_dim = hidden_dim\n",
    "        self.layer_dim = layer_dim\n",
    "        self.rnn = nn.LSTM(input_dim, hidden_dim, layer_dim, batch_first=True)\n",
    "        self.fc = nn.Linear(hidden_dim, output_dim)\n",
    "    \n",
    "    def forward(self, x):\n",
    "        h0, c0 = self.init_hidden(x)\n",
    "        out, (hn, cn) = self.rnn(x, (h0, c0))\n",
    "        out = self.fc(out[:, -1, :])\n",
    "        return out\n",
    "    \n",
    "    def init_hidden(self, x):\n",
    "        h0 = torch.zeros(self.layer_dim, x.size(0), self.hidden_dim)\n",
    "        c0 = torch.zeros(self.layer_dim, x.size(0), self.hidden_dim)\n",
    "        return [t.to(device) for t in (h0, c0)]\n",
    "\n"
   ]
  },
  {
   "cell_type": "code",
   "execution_count": 7,
   "metadata": {},
   "outputs": [],
   "source": [
    "batch_size = 200\n",
    "lr = 0.0005\n",
    "input_dim = 7\n",
    "hidden_dim = 256\n",
    "layer_dim = 5\n",
    "output_dim = 2\n",
    "seq_dim = 32\n",
    "target_column = 'x'\n",
    "\n",
    "feature_columns = data.columns[~data.columns.isin([target_column])]\n",
    "train, validation = data[:int(len(data) * 0.8)], data[int(len(data) * 0.2):]\n",
    "train_features, train_target = train[feature_columns], train[[target_column]]\n",
    "validation_features, validation_target = validation[feature_columns], validation[[target_column]]\n",
    "train_dataset = Timeseries_Dataset(X=train_features.values, y=train_target.values, seq_len=seq_dim)\n",
    "validation_dataset = Timeseries_Dataset(X=validation_features.values, y=validation_target.values, seq_len=seq_dim)\n",
    "train_loader = DataLoader(train_dataset, batch_size=batch_size, shuffle=False)\n",
    "validation_loader = DataLoader(validation_dataset, batch_size=batch_size, shuffle=False)\n",
    "\n"
   ]
  },
  {
   "cell_type": "code",
   "execution_count": 10,
   "metadata": {},
   "outputs": [],
   "source": [
    "weight = '/kaggle/input/weight-lstm/best_30.pth'\n",
    "\n",
    "phase_training = True\n",
    "if os.path.exists(weight):\n",
    "    phase_training = False\n",
    "\n",
    "device = torch.device('cuda:0' if torch.cuda.is_available() else 'cpu')\n",
    "model = LSTMClassifier(input_dim, hidden_dim, layer_dim, output_dim)\n",
    "model = model.to(device)\n"
   ]
  },
  {
   "cell_type": "markdown",
   "metadata": {},
   "source": []
  }
 ],
 "metadata": {
  "interpreter": {
   "hash": "bccc0f41f7f3bcaeffddd9741ddcda1f7d088846fa513f73350e28c16010e459"
  },
  "kernelspec": {
   "display_name": "Python 3.9.7 ('base')",
   "language": "python",
   "name": "python3"
  },
  "language_info": {
   "codemirror_mode": {
    "name": "ipython",
    "version": 3
   },
   "file_extension": ".py",
   "mimetype": "text/x-python",
   "name": "python",
   "nbconvert_exporter": "python",
   "pygments_lexer": "ipython3",
   "version": "3.9.7"
  },
  "orig_nbformat": 4
 },
 "nbformat": 4,
 "nbformat_minor": 2
}
