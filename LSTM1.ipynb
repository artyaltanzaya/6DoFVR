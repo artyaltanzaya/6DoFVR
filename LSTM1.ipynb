{
 "cells": [
  {
   "cell_type": "code",
   "execution_count": 2,
   "metadata": {},
   "outputs": [],
   "source": [
    "\n",
    "import numpy as np\n",
    "from torch.utils.data import Dataset, DataLoader\n",
    "import torch\n",
    "from torch import nn\n",
    "from torch.nn import functional as F\n",
    "from torch.optim.lr_scheduler import _LRScheduler\n",
    "from tqdm import tqdm\n",
    "import pandas as pd\n",
    "import os"
   ]
  },
  {
   "cell_type": "code",
   "execution_count": 3,
   "metadata": {},
   "outputs": [],
   "source": [
    "data = dt.fread('./dataset/H1_nav.csv')\n",
    "data = data.to_pandas()"
   ]
  },
  {
   "cell_type": "code",
   "execution_count": 4,
   "metadata": {},
   "outputs": [],
   "source": [
    "ignore_columns = ['Participant', 'Dataset']\n",
    "features = [col for col in data.columns if col not in ignore_columns]"
   ]
  },
  {
   "cell_type": "code",
   "execution_count": 4,
   "metadata": {},
   "outputs": [
    {
     "data": {
      "text/plain": [
       "device(type='cuda')"
      ]
     },
     "execution_count": 4,
     "metadata": {},
     "output_type": "execute_result"
    }
   ],
   "source": [
    "device = torch.device('cuda')\n",
    "device"
   ]
  },
  {
   "cell_type": "code",
   "execution_count": 6,
   "metadata": {},
   "outputs": [],
   "source": [
    "data = data.fillna(method='ffill').fillna(method='bfill')\n",
    "# data['action'] = (data['resp'] > 0).astype('int')\n",
    "data = data.drop(columns=ignore_columns)"
   ]
  },
  {
   "cell_type": "code",
   "execution_count": null,
   "metadata": {},
   "outputs": [],
   "source": []
  },
  {
   "cell_type": "code",
   "execution_count": 7,
   "metadata": {},
   "outputs": [],
   "source": [
    "class Timeseries_Dataset(Dataset):\n",
    "    def __init__(self, X: np.ndarray, y: np.ndarray, seq_len: int = 32):\n",
    "        self.X = torch.tensor(X).float()\n",
    "        self.y = torch.tensor(y).float()\n",
    "        self.seq_len = seq_len\n",
    "\n",
    "    def __len__(self):\n",
    "        return self.X.__len__() - (self.seq_len - 1)\n",
    "\n",
    "    def __getitem__(self, index):\n",
    "        return {'x': torch.tensor(self.X[index:index + self.seq_len], dtype=torch.float),\n",
    "                'y': torch.tensor(self.y[index + self.seq_len - 1], dtype=torch.long)}\n"
   ]
  },
  {
   "cell_type": "code",
   "execution_count": 8,
   "metadata": {},
   "outputs": [],
   "source": [
    "class LSTMClassifier(nn.Module):\n",
    "\n",
    "    def __init__(self, input_dim, hidden_dim, layer_dim, output_dim):\n",
    "        super().__init__()\n",
    "        self.hidden_dim = hidden_dim\n",
    "        self.layer_dim = layer_dim\n",
    "        self.rnn = nn.LSTM(input_dim, hidden_dim, layer_dim, batch_first=True)\n",
    "        self.fc = nn.Linear(hidden_dim, output_dim)\n",
    "    \n",
    "    def forward(self, x):\n",
    "        h0, c0 = self.init_hidden(x)\n",
    "        out, (hn, cn) = self.rnn(x, (h0, c0))\n",
    "        out = self.fc(out[:, -1, :])\n",
    "        return out\n",
    "    \n",
    "    def init_hidden(self, x):\n",
    "        h0 = torch.zeros(self.layer_dim, x.size(0), self.hidden_dim)\n",
    "        c0 = torch.zeros(self.layer_dim, x.size(0), self.hidden_dim)\n",
    "        return [t.to(device) for t in (h0, c0)]\n",
    "\n"
   ]
  },
  {
   "cell_type": "code",
   "execution_count": 11,
   "metadata": {},
   "outputs": [],
   "source": [
    "batch_size = 200\n",
    "lr = 0.0005\n",
    "input_dim = 7\n",
    "hidden_dim = 256\n",
    "layer_dim = 5\n",
    "output_dim = 2\n",
    "seq_dim = 32\n",
    "target_column = 'x'\n",
    "\n",
    "feature_columns = data.columns[~data.columns.isin([target_column])]\n",
    "train, validation = data[:int(len(data) * 0.8)], data[int(len(data) * 0.2):]\n",
    "train_features, train_target = train[feature_columns], train[[target_column]]\n",
    "validation_features, validation_target = validation[feature_columns], validation[[target_column]]\n",
    "train_dataset = Timeseries_Dataset(X=train_features.values, y=train_target.values, seq_len=seq_dim)\n",
    "validation_dataset = Timeseries_Dataset(X=validation_features.values, y=validation_target.values, seq_len=seq_dim)\n",
    "train_loader = DataLoader(train_dataset, batch_size=batch_size, shuffle=False)\n",
    "validation_loader = DataLoader(validation_dataset, batch_size=batch_size, shuffle=False)\n",
    "\n"
   ]
  },
  {
   "cell_type": "code",
   "execution_count": 12,
   "metadata": {},
   "outputs": [
    {
     "name": "stdout",
     "output_type": "stream",
     "text": [
      "Start model training ...\n"
     ]
    },
    {
     "name": "stderr",
     "output_type": "stream",
     "text": [
      "/tmp/ipykernel_110169/2446781909.py:11: UserWarning: To copy construct from a tensor, it is recommended to use sourceTensor.clone().detach() or sourceTensor.clone().detach().requires_grad_(True), rather than torch.tensor(sourceTensor).\n",
      "  return {'x': torch.tensor(self.X[index:index + self.seq_len], dtype=torch.float),\n",
      "/tmp/ipykernel_110169/2446781909.py:12: UserWarning: To copy construct from a tensor, it is recommended to use sourceTensor.clone().detach() or sourceTensor.clone().detach().requires_grad_(True), rather than torch.tensor(sourceTensor).\n",
      "  'y': torch.tensor(self.y[index + self.seq_len - 1], dtype=torch.long)}\n"
     ]
    },
    {
     "name": "stdout",
     "output_type": "stream",
     "text": [
      "Epoch 1 best model saved with loss: 0.062\n",
      "Epoch 1 best model saved with accuracy: 95.42%\n",
      "Epoch 2 best model saved with loss: 0.063\n",
      "Epoch 3 best model saved with loss: 0.066\n",
      "Epoch 4 best model saved with loss: 0.068\n",
      "Epoch 5 best model saved with loss: 0.067\n",
      "Epoch:   5. Loss: 0.0671. Acc.: 95.42%\n",
      "Epoch 6 best model saved with loss: 0.066\n",
      "Epoch 7 best model saved with loss: 0.061\n",
      "Epoch 8 best model saved with loss: 0.036\n",
      "Epoch 9 best model saved with loss: 0.043\n",
      "Epoch 10 best model saved with loss: 0.059\n",
      "Epoch:  10. Loss: 0.0594. Acc.: 95.42%\n",
      "Epoch 11 best model saved with loss: 0.063\n",
      "Epoch 12 best model saved with loss: 0.063\n",
      "Epoch 13 best model saved with loss: 0.058\n",
      "Epoch 14 best model saved with loss: 0.043\n",
      "Epoch 15 best model saved with loss: 0.023\n",
      "Epoch:  15. Loss: 0.0231. Acc.: 95.42%\n",
      "Epoch 16 best model saved with loss: 0.03\n",
      "Epoch 17 best model saved with loss: 0.02\n",
      "Epoch 18 best model saved with loss: 0.0083\n",
      "Epoch 19 best model saved with loss: 0.0057\n",
      "Epoch 20 best model saved with loss: 0.011\n",
      "Epoch:  20. Loss: 0.0108. Acc.: 95.42%\n",
      "Epoch 21 best model saved with loss: 0.0044\n",
      "Epoch 22 best model saved with loss: 0.0032\n",
      "Epoch 23 best model saved with loss: 0.009\n",
      "Epoch 24 best model saved with loss: 0.068\n",
      "Epoch 25 best model saved with loss: 0.05\n",
      "Epoch:  25. Loss: 0.0496. Acc.: 95.42%\n",
      "Epoch 26 best model saved with loss: 0.02\n",
      "Epoch 27 best model saved with loss: 0.0089\n",
      "Epoch 28 best model saved with loss: 0.005\n",
      "Epoch 29 best model saved with loss: 0.013\n",
      "Epoch 30 best model saved with loss: 0.0064\n",
      "Epoch:  30. Loss: 0.0064. Acc.: 95.42%\n",
      "Training Complete !!!\n"
     ]
    }
   ],
   "source": [
    "weight = '/kaggle/input/weight-lstm/best_30.pth'\n",
    "\n",
    "phase_training = True\n",
    "if os.path.exists(weight):\n",
    "    phase_training = False\n",
    "\n",
    "device = torch.device('cuda:0' if torch.cuda.is_available() else 'cpu')\n",
    "model = LSTMClassifier(input_dim, hidden_dim, layer_dim, output_dim)\n",
    "model = model.to(device)\n",
    "if phase_training:\n",
    "    iterations_per_epoch = len(train_loader)\n",
    "    num_epochs = 30\n",
    "    criterion = nn.CrossEntropyLoss()\n",
    "    optimizer = torch.optim.RMSprop(model.parameters(), lr=lr)\n",
    "    print('Start model training ...')\n",
    "    best_acc = 0.0\n",
    "    patience, trials = 100, 0\n",
    "    for epoch in range(1, num_epochs + 1):\n",
    "        for i, train_batch in enumerate(validation_loader):\n",
    "            model.train()\n",
    "            features = train_batch['x'].to(device)\n",
    "            targets = train_batch['y'].to(device)\n",
    "            targets = torch.squeeze(targets)\n",
    "            preds = model(features)\n",
    "            loss = criterion(preds, targets)\n",
    "            optimizer.zero_grad()\n",
    "            loss.backward()\n",
    "            optimizer.step()\n",
    "\n",
    "        print(f'Epoch {epoch} best model saved with loss: {loss:2.2}')\n",
    "\n",
    "        model.eval()\n",
    "        correct, total = 0, 0\n",
    "        for valid_batch in validation_loader:\n",
    "            features = valid_batch['x'].to(device)\n",
    "            targets = valid_batch['y'].to(device)\n",
    "            targets = torch.squeeze(targets)\n",
    "            preds = model(features)\n",
    "            preds = F.log_softmax(preds, dim=1).argmax(dim=1)\n",
    "            total += targets.size(0)\n",
    "            correct += (preds == targets).sum().item()\n",
    "\n",
    "        acc = correct / total\n",
    "\n",
    "        if epoch % 5 == 0:\n",
    "            print(f'Epoch: {epoch:3d}. Loss: {loss.item():.4f}. Acc.: {acc:2.2%}')\n",
    "\n",
    "        if acc > best_acc:\n",
    "            trials = 0\n",
    "            best_acc = acc\n",
    "            torch.save(model.state_dict(), 'best.pth')\n",
    "            print(f'Epoch {epoch} best model saved with accuracy: {best_acc:2.2%}')\n",
    "        else:\n",
    "            trials += 1\n",
    "            if trials >= patience:\n",
    "                print(f'Early stopping on epoch {epoch}')\n",
    "                break\n",
    "    print('Training Complete !!!')\n"
   ]
  },
  {
   "cell_type": "markdown",
   "metadata": {},
   "source": []
  }
 ],
 "metadata": {
  "interpreter": {
   "hash": "72ff7f5dbc8d71babb1301e0d562078704903aebf6a10427ff7a7bfb7aec5314"
  },
  "kernelspec": {
   "display_name": "Python 3.9.12 ('6test')",
   "language": "python",
   "name": "python3"
  },
  "language_info": {
   "codemirror_mode": {
    "name": "ipython",
    "version": 3
   },
   "file_extension": ".py",
   "mimetype": "text/x-python",
   "name": "python",
   "nbconvert_exporter": "python",
   "pygments_lexer": "ipython3",
   "version": "3.8.13"
  },
  "orig_nbformat": 4
 },
 "nbformat": 4,
 "nbformat_minor": 2
}
