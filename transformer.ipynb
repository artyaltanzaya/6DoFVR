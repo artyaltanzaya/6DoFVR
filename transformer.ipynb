{
 "cells": [
  {
   "cell_type": "code",
   "execution_count": null,
   "metadata": {},
   "outputs": [],
   "source": [
    "import torch\n",
    "import torch.nn as nn\n",
    "import numpy as np\n",
    "import time\n",
    "import math\n",
    "from matplotlib import pyplot\n",
    "import pandas as pd\n",
    "from sklearn.preprocessing import MinMaxScaler\n",
    "from pandas import read_csv\n",
    "torch.manual_seed(0)\n",
    "np.random.seed(0)"
   ]
  },
  {
   "cell_type": "code",
   "execution_count": null,
   "metadata": {},
   "outputs": [],
   "source": [
    "calculate_loss_over_all_values = False\n",
    "input_window = 10\n",
    "output_window = 5\n",
    "batch_size = 10\n",
    "device = torch.device(\"cuda\" if torch.cuda.is_available() else \"cpu\")"
   ]
  },
  {
   "cell_type": "markdown",
   "metadata": {},
   "source": [
    "Encoding"
   ]
  },
  {
   "cell_type": "code",
   "execution_count": null,
   "metadata": {},
   "outputs": [],
   "source": [
    "class PositionalEncoding(nn.Module):\n",
    "    def __init__(self, d_model, max_len=5000):\n",
    "        super(PositionalEncoding, self).__init__()       \n",
    "        pe = torch.zeros(max_len, d_model)\n",
    "        position = torch.arange(0, max_len, dtype=torch.float).unsqueeze(1)\n",
    "        div_term = torch.exp(torch.arange(0, d_model, 2).float() * (-math.log(10000.0) / d_model))\n",
    "        pe[:, 0::2] = torch.sin(position * div_term)\n",
    "        pe[:, 1::2] = torch.cos(position * div_term)\n",
    "        pe = pe.unsqueeze(0).transpose(0, 1)\n",
    "        \n",
    "        self.register_buffer('pe', pe)\n",
    "\n",
    "    def forward(self, x):\n",
    "        return x + self.pe[:x.size(0), :]\n",
    "       "
   ]
  },
  {
   "cell_type": "markdown",
   "metadata": {},
   "source": [
    "Model"
   ]
  },
  {
   "cell_type": "code",
   "execution_count": null,
   "metadata": {},
   "outputs": [],
   "source": [
    "class TransAm(nn.Module):\n",
    "    def __init__(self,feature_size=250,num_layers=1,dropout=0.1):\n",
    "        super(TransAm, self).__init__()\n",
    "        self.model_type = 'Transformer'\n",
    "        \n",
    "        self.src_mask = None\n",
    "        self.pos_encoder = PositionalEncoding(feature_size)\n",
    "        self.encoder_layer = nn.TransformerEncoderLayer(d_model=feature_size, nhead=10, dropout=dropout)\n",
    "        self.transformer_encoder = nn.TransformerEncoder(self.encoder_layer, num_layers=num_layers)        \n",
    "        self.decoder = nn.Linear(feature_size,1)\n",
    "        self.init_weights()\n",
    "\n",
    "    def init_weights(self):\n",
    "        initrange = 0.1    \n",
    "        self.decoder.bias.data.zero_()\n",
    "        self.decoder.weight.data.uniform_(-initrange, initrange)\n",
    "\n",
    "    def forward(self,src):\n",
    "        if self.src_mask is None or self.src_mask.size(0) != len(src):\n",
    "            device = src.device\n",
    "            mask = self._generate_square_subsequent_mask(len(src)).to(device)\n",
    "            self.src_mask = mask\n",
    "\n",
    "        src = self.pos_encoder(src)\n",
    "        output = self.transformer_encoder(src,self.src_mask)\n",
    "        output = self.decoder(output)\n",
    "        return output\n",
    "\n",
    "    def _generate_square_subsequent_mask(self, sz):\n",
    "        mask = (torch.triu(torch.ones(sz, sz)) == 1).transpose(0, 1)\n",
    "        mask = mask.float().masked_fill(mask == 0, float('-inf')).masked_fill(mask == 1, float(0.0))\n",
    "        return mask\n"
   ]
  },
  {
   "cell_type": "code",
   "execution_count": null,
   "metadata": {},
   "outputs": [],
   "source": [
    "def create_input_sequences(input_data, tw):\n",
    "    input_seq = []\n",
    "    L = len(input_data)\n",
    "    for i in range(L-tw):\n",
    "        train_seq = np.append(input_data[i:i+tw][:-output_window] , output_window * [0])\n",
    "        train_label = input_data[i:i+tw]\n",
    "        input_seq.append((train_seq ,train_label))\n",
    "    return torch.FloatTensor(input_seq)"
   ]
  },
  {
   "cell_type": "code",
   "execution_count": null,
   "metadata": {},
   "outputs": [],
   "source": [
    "df = pd.read_csv(\"./dataset/merged.csv\")\n",
    "df = torch.Tensor(df.values)"
   ]
  },
  {
   "cell_type": "code",
   "execution_count": null,
   "metadata": {},
   "outputs": [
    {
     "data": {
      "text/plain": [
       "torch.Size([40178, 6])"
      ]
     },
     "execution_count": 47,
     "metadata": {},
     "output_type": "execute_result"
    }
   ],
   "source": [
    "df.shape"
   ]
  },
  {
   "cell_type": "code",
   "execution_count": null,
   "metadata": {},
   "outputs": [],
   "source": [
    "\n",
    "def get_data():\n",
    "    series = read_csv('./dataset/merged.csv', header=0, index_col=0, parse_dates=False, squeeze=True)\n",
    "    scaler = MinMaxScaler() \n",
    "    amplitude = scaler.fit_transform(series.to_numpy().reshape(-1, 1))\n",
    "\n",
    "    samples = 4000\n",
    "    train_data = amplitude[:samples]\n",
    "    test_data = amplitude[samples:]\n",
    "\n",
    "    train_sequence = create_input_sequences(train_data,input_window)\n",
    "    train_sequence = train_sequence[:-output_window] \n",
    "\n",
    "    test_data = create_input_sequences(test_data,input_window)\n",
    "    test_data = test_data[:-output_window]\n",
    "\n",
    "    return train_sequence.to(device),test_data.to(device)\n"
   ]
  },
  {
   "cell_type": "code",
   "execution_count": null,
   "metadata": {},
   "outputs": [
    {
     "data": {
      "text/plain": [
       "torch.Size([3985, 2, 10])"
      ]
     },
     "execution_count": 49,
     "metadata": {},
     "output_type": "execute_result"
    }
   ],
   "source": [
    "train_sequence.shape"
   ]
  },
  {
   "cell_type": "code",
   "execution_count": null,
   "metadata": {},
   "outputs": [
    {
     "data": {
      "text/plain": [
       "torch.Size([196875, 2, 10])"
      ]
     },
     "execution_count": 50,
     "metadata": {},
     "output_type": "execute_result"
    }
   ],
   "source": [
    "test_data.shape"
   ]
  },
  {
   "cell_type": "code",
   "execution_count": null,
   "metadata": {},
   "outputs": [],
   "source": [
    "def get_batch(source, i,batch_size):\n",
    "    seq_len = min(batch_size, len(source) - 1 - i)\n",
    "    data = source[i:i+seq_len]    \n",
    "    input = torch.stack(torch.stack([item[0] for item in data]).chunk(input_window,1)) # 1 is feature size\n",
    "    target = torch.stack(torch.stack([item[1] for item in data]).chunk(input_window,1))\n",
    "    return input, target"
   ]
  },
  {
   "cell_type": "code",
   "execution_count": null,
   "metadata": {},
   "outputs": [],
   "source": [
    "def train(train_data):\n",
    "    model.train() # Turn on the train mode\n",
    "    total_loss = 0.\n",
    "    start_time = time.time()\n",
    "\n",
    "    for batch, i in enumerate(range(0, len(train_data) - 1, batch_size)):\n",
    "        data, targets = get_batch(train_data, i,batch_size)\n",
    "        optimizer.zero_grad()\n",
    "        output = model(data)        \n",
    "\n",
    "        if calculate_loss_over_all_values:\n",
    "            loss = criterion(output, targets)\n",
    "        else:\n",
    "            loss = criterion(output[-output_window:], targets[-output_window:])\n",
    "    \n",
    "        loss.backward()\n",
    "        torch.nn.utils.clip_grad_norm_(model.parameters(), 0.5)\n",
    "        optimizer.step()\n",
    "\n",
    "        total_loss += loss.item()\n",
    "        log_interval = int(len(train_data) / batch_size / 5)\n",
    "        if batch % log_interval == 0 and batch > 0:\n",
    "            cur_loss = total_loss / log_interval\n",
    "            elapsed = time.time() - start_time\n",
    "            print('| epoch {:3d} | {:5d}/{:5d} batches | '\n",
    "                  'lr {:02.6f} | {:5.2f} ms | '\n",
    "                  'loss {:5.5f} | ppl {:8.2f}'.format(\n",
    "                    epoch, batch, len(train_data) // batch_size, scheduler.get_lr()[0],\n",
    "                    elapsed * 1000 / log_interval,\n",
    "                    cur_loss, math.exp(cur_loss)))\n",
    "            total_loss = 0\n",
    "            start_time = time.time()\n"
   ]
  },
  {
   "cell_type": "code",
   "execution_count": 54,
   "metadata": {},
   "outputs": [],
   "source": [
    "def plot_and_loss(eval_model, data_source,epoch):\n",
    "    eval_model.eval() \n",
    "    total_loss = 0.\n",
    "    test_result = torch.Tensor(0)    \n",
    "    truth = torch.Tensor(0)\n",
    "    with torch.no_grad():\n",
    "        for i in range(0, len(data_source) - 1):\n",
    "            data, target = get_batch(data_source, i,1)\n",
    "            # look like the model returns static values for the output window\n",
    "            output = eval_model(data)    \n",
    "            if calculate_loss_over_all_values:                                \n",
    "                total_loss += criterion(output, target).item()\n",
    "            else:\n",
    "                total_loss += criterion(output[-output_window:], target[-output_window:]).item()\n",
    "            \n",
    "            test_result = torch.cat((test_result, output[-1].view(-1).cpu()), 0) \n",
    "            truth = torch.cat((truth, target[-1].view(-1).cpu()), 0)\n",
    "            # print(test_result.shape, test_data)\n",
    "            # print(truth.shape, truth)\n",
    "    len(test_result)\n",
    "\n",
    "    pyplot.plot(test_result,color=\"red\")\n",
    "    pyplot.plot(truth[:500],color=\"blue\")\n",
    "    pyplot.plot(test_result-truth,color=\"green\")\n",
    "    pyplot.grid(True, which='both')\n",
    "    pyplot.axhline(y=0, color='k')\n",
    "    pyplot.savefig('graph/transformer-epoch%d.png'%epoch)\n",
    "    pyplot.close()\n",
    "    \n",
    "    return total_loss / i\n"
   ]
  },
  {
   "cell_type": "code",
   "execution_count": 55,
   "metadata": {},
   "outputs": [],
   "source": [
    "def predict_future(eval_model, data_source,steps):\n",
    "    eval_model.eval() \n",
    "    total_loss = 0.\n",
    "    test_result = torch.Tensor(0)    \n",
    "    truth = torch.Tensor(0)\n",
    "    _ , data = get_batch(data_source, 0,1)\n",
    "    with torch.no_grad():\n",
    "        for i in range(0, steps,1):\n",
    "            input = torch.clone(data[-input_window:])\n",
    "            input[-output_window:] = 0     \n",
    "            output = eval_model(data[-input_window:])                        \n",
    "            data = torch.cat((data, output[-1:]))\n",
    "            \n",
    "    data = data.cpu().view(-1)\n",
    "    \n",
    "\n",
    "    pyplot.plot(data,color=\"red\")       \n",
    "    pyplot.plot(data[:input_window],color=\"blue\")\n",
    "    pyplot.grid(True, which='both')\n",
    "    pyplot.axhline(y=0, color='k')\n",
    "    pyplot.savefig('graph/transformer-future%d.png'%steps)\n",
    "    pyplot.close()"
   ]
  },
  {
   "cell_type": "code",
   "execution_count": 57,
   "metadata": {},
   "outputs": [
    {
     "name": "stderr",
     "output_type": "stream",
     "text": [
      "<>:30: SyntaxWarning: \"is\" with a literal. Did you mean \"==\"?\n",
      "<>:30: SyntaxWarning: \"is\" with a literal. Did you mean \"==\"?\n",
      "/tmp/ipykernel_9457/3450748442.py:30: SyntaxWarning: \"is\" with a literal. Did you mean \"==\"?\n",
      "  if(epoch % 10 is 0):\n",
      "/home/arty/anaconda3/envs/6/lib/python3.9/site-packages/torch/optim/lr_scheduler.py:371: UserWarning: To get the last learning rate computed by the scheduler, please use `get_last_lr()`.\n",
      "  warnings.warn(\"To get the last learning rate computed by the scheduler, \"\n"
     ]
    },
    {
     "name": "stdout",
     "output_type": "stream",
     "text": [
      "| epoch   1 |    79/  398 batches | lr 0.005000 | 17.90 ms | loss 3.83518 | ppl    46.30\n",
      "| epoch   1 |   158/  398 batches | lr 0.005000 |  3.14 ms | loss 0.21476 | ppl     1.24\n",
      "| epoch   1 |   237/  398 batches | lr 0.005000 |  3.26 ms | loss 0.15303 | ppl     1.17\n",
      "| epoch   1 |   316/  398 batches | lr 0.005000 |  3.07 ms | loss 0.15496 | ppl     1.17\n",
      "| epoch   1 |   395/  398 batches | lr 0.005000 |  3.38 ms | loss 0.05484 | ppl     1.06\n",
      "-----------------------------------------------------------------------------------------\n",
      "| end of epoch   1 | time:  4.54s | valid loss 0.16959 | valid ppl     1.18\n",
      "-----------------------------------------------------------------------------------------\n",
      "| epoch   2 |    79/  398 batches | lr 0.004802 |  2.95 ms | loss 0.13712 | ppl     1.15\n",
      "| epoch   2 |   158/  398 batches | lr 0.004802 |  2.99 ms | loss 0.16968 | ppl     1.18\n",
      "| epoch   2 |   237/  398 batches | lr 0.004802 |  3.05 ms | loss 0.14952 | ppl     1.16\n",
      "| epoch   2 |   316/  398 batches | lr 0.004802 |  3.02 ms | loss 0.15030 | ppl     1.16\n",
      "| epoch   2 |   395/  398 batches | lr 0.004802 |  2.93 ms | loss 0.05151 | ppl     1.05\n",
      "-----------------------------------------------------------------------------------------\n",
      "| end of epoch   2 | time:  3.29s | valid loss 0.19713 | valid ppl     1.22\n",
      "-----------------------------------------------------------------------------------------\n",
      "| epoch   3 |    79/  398 batches | lr 0.004706 |  3.11 ms | loss 0.13422 | ppl     1.14\n",
      "| epoch   3 |   158/  398 batches | lr 0.004706 |  2.97 ms | loss 0.16331 | ppl     1.18\n",
      "| epoch   3 |   237/  398 batches | lr 0.004706 |  3.02 ms | loss 0.14867 | ppl     1.16\n",
      "| epoch   3 |   316/  398 batches | lr 0.004706 |  2.92 ms | loss 0.14842 | ppl     1.16\n",
      "| epoch   3 |   395/  398 batches | lr 0.004706 |  2.99 ms | loss 0.05026 | ppl     1.05\n",
      "-----------------------------------------------------------------------------------------\n",
      "| end of epoch   3 | time:  3.29s | valid loss 0.16954 | valid ppl     1.18\n",
      "-----------------------------------------------------------------------------------------\n",
      "| epoch   4 |    79/  398 batches | lr 0.004612 |  3.24 ms | loss 0.13126 | ppl     1.14\n",
      "| epoch   4 |   158/  398 batches | lr 0.004612 |  3.37 ms | loss 0.16206 | ppl     1.18\n",
      "| epoch   4 |   237/  398 batches | lr 0.004612 |  3.37 ms | loss 0.14879 | ppl     1.16\n",
      "| epoch   4 |   316/  398 batches | lr 0.004612 |  3.18 ms | loss 0.14831 | ppl     1.16\n",
      "| epoch   4 |   395/  398 batches | lr 0.004612 |  2.89 ms | loss 0.04847 | ppl     1.05\n",
      "-----------------------------------------------------------------------------------------\n",
      "| end of epoch   4 | time:  3.39s | valid loss 0.18381 | valid ppl     1.20\n",
      "-----------------------------------------------------------------------------------------\n",
      "| epoch   5 |    79/  398 batches | lr 0.004520 |  3.29 ms | loss 0.13135 | ppl     1.14\n",
      "| epoch   5 |   158/  398 batches | lr 0.004520 |  3.21 ms | loss 0.16269 | ppl     1.18\n",
      "| epoch   5 |   237/  398 batches | lr 0.004520 |  3.54 ms | loss 0.14859 | ppl     1.16\n",
      "| epoch   5 |   316/  398 batches | lr 0.004520 |  3.05 ms | loss 0.14812 | ppl     1.16\n",
      "| epoch   5 |   395/  398 batches | lr 0.004520 |  3.32 ms | loss 0.04927 | ppl     1.05\n",
      "-----------------------------------------------------------------------------------------\n",
      "| end of epoch   5 | time:  3.40s | valid loss 0.16839 | valid ppl     1.18\n",
      "-----------------------------------------------------------------------------------------\n",
      "| epoch   6 |    79/  398 batches | lr 0.004429 |  3.05 ms | loss 0.12856 | ppl     1.14\n",
      "| epoch   6 |   158/  398 batches | lr 0.004429 |  3.16 ms | loss 0.16115 | ppl     1.17\n",
      "| epoch   6 |   237/  398 batches | lr 0.004429 |  2.96 ms | loss 0.14875 | ppl     1.16\n",
      "| epoch   6 |   316/  398 batches | lr 0.004429 |  3.00 ms | loss 0.14810 | ppl     1.16\n",
      "| epoch   6 |   395/  398 batches | lr 0.004429 |  2.91 ms | loss 0.05018 | ppl     1.05\n",
      "-----------------------------------------------------------------------------------------\n",
      "| end of epoch   6 | time:  3.27s | valid loss 0.17038 | valid ppl     1.19\n",
      "-----------------------------------------------------------------------------------------\n",
      "| epoch   7 |    79/  398 batches | lr 0.004341 |  3.15 ms | loss 0.12827 | ppl     1.14\n",
      "| epoch   7 |   158/  398 batches | lr 0.004341 |  2.98 ms | loss 0.16126 | ppl     1.17\n",
      "| epoch   7 |   237/  398 batches | lr 0.004341 |  2.83 ms | loss 0.14840 | ppl     1.16\n",
      "| epoch   7 |   316/  398 batches | lr 0.004341 |  2.98 ms | loss 0.14812 | ppl     1.16\n",
      "| epoch   7 |   395/  398 batches | lr 0.004341 |  2.94 ms | loss 0.05001 | ppl     1.05\n",
      "-----------------------------------------------------------------------------------------\n",
      "| end of epoch   7 | time:  3.25s | valid loss 0.17025 | valid ppl     1.19\n",
      "-----------------------------------------------------------------------------------------\n",
      "| epoch   8 |    79/  398 batches | lr 0.004254 |  3.52 ms | loss 0.12855 | ppl     1.14\n",
      "| epoch   8 |   158/  398 batches | lr 0.004254 |  2.89 ms | loss 0.16117 | ppl     1.17\n",
      "| epoch   8 |   237/  398 batches | lr 0.004254 |  2.92 ms | loss 0.14848 | ppl     1.16\n",
      "| epoch   8 |   316/  398 batches | lr 0.004254 |  2.98 ms | loss 0.14808 | ppl     1.16\n",
      "| epoch   8 |   395/  398 batches | lr 0.004254 |  3.00 ms | loss 0.04974 | ppl     1.05\n",
      "-----------------------------------------------------------------------------------------\n",
      "| end of epoch   8 | time:  3.29s | valid loss 0.17079 | valid ppl     1.19\n",
      "-----------------------------------------------------------------------------------------\n",
      "| epoch   9 |    79/  398 batches | lr 0.004169 |  3.18 ms | loss 0.12752 | ppl     1.14\n",
      "| epoch   9 |   158/  398 batches | lr 0.004169 |  3.30 ms | loss 0.16133 | ppl     1.18\n",
      "| epoch   9 |   237/  398 batches | lr 0.004169 |  3.08 ms | loss 0.14846 | ppl     1.16\n",
      "| epoch   9 |   316/  398 batches | lr 0.004169 |  3.17 ms | loss 0.14823 | ppl     1.16\n",
      "| epoch   9 |   395/  398 batches | lr 0.004169 |  3.35 ms | loss 0.05071 | ppl     1.05\n"
     ]
    }
   ],
   "source": [
    "def evaluate(eval_model, data_source):\n",
    "    eval_model.eval() # Turn on the evaluation mode\n",
    "    total_loss = 0.\n",
    "    eval_batch_size = 200\n",
    "    with torch.no_grad():\n",
    "        for i in range(0, len(data_source) - 1, eval_batch_size):\n",
    "            data, targets = get_batch(data_source, i,eval_batch_size)\n",
    "            output = eval_model(data)            \n",
    "            if calculate_loss_over_all_values:\n",
    "                total_loss += len(data[0])* criterion(output, targets).cpu().item()\n",
    "            else:                                \n",
    "                total_loss += len(data[0])* criterion(output[-output_window:], targets[-output_window:]).cpu().item()            \n",
    "    return total_loss / len(data_source)\n",
    "\n",
    "train_data, val_data = get_data()\n",
    "model = TransAm().to(device)\n",
    "\n",
    "criterion = nn.MSELoss()\n",
    "lr = 0.005 \n",
    "optimizer = torch.optim.AdamW(model.parameters(), lr=lr)\n",
    "scheduler = torch.optim.lr_scheduler.StepLR(optimizer, 1.0, gamma=0.98)\n",
    "\n",
    "best_val_loss = float(\"inf\")\n",
    "epochs = 10 # The number of epochs\n",
    "\n",
    "for epoch in range(1, epochs + 1):\n",
    "    epoch_start_time = time.time()\n",
    "    train(train_data)\n",
    "    \n",
    "    if(epoch % 10 is 0):\n",
    "        val_loss = plot_and_loss(model, val_data,epoch)\n",
    "        predict_future(model, val_data,200)\n",
    "    else:\n",
    "        val_loss = evaluate(model, val_data)\n",
    "        \n",
    "    print('-' * 89)\n",
    "    print('| end of epoch {:3d} | time: {:5.2f}s | valid loss {:5.5f} | valid ppl {:8.2f}'.format(epoch, (time.time() - epoch_start_time),\n",
    "                                     val_loss, math.exp(val_loss)))\n",
    "    print('-' * 89)\n",
    "\n",
    "    #if val_loss < best_val_loss:\n",
    "    #    best_val_loss = val_loss\n",
    "    #    best_model = model\n",
    "\n",
    "    scheduler.step() \n",
    "\n",
    "# src = torch.rand(input_window, batch_size, 1) # (source sequence length,batch size,feature number) \n",
    "# out = model(src)\n",
    "# #\n",
    "# print(out)\n",
    "# print(out.shape)"
   ]
  }
 ],
 "metadata": {
  "interpreter": {
   "hash": "b95550209091b884f1189d9cb440e1012ff16a8c9af4e99e2312a702983f1760"
  },
  "kernelspec": {
   "display_name": "Python 3.9.0 ('6')",
   "language": "python",
   "name": "python3"
  },
  "language_info": {
   "codemirror_mode": {
    "name": "ipython",
    "version": 3
   },
   "file_extension": ".py",
   "mimetype": "text/x-python",
   "name": "python",
   "nbconvert_exporter": "python",
   "pygments_lexer": "ipython3",
   "version": "3.9.7"
  },
  "orig_nbformat": 4
 },
 "nbformat": 4,
 "nbformat_minor": 2
}
